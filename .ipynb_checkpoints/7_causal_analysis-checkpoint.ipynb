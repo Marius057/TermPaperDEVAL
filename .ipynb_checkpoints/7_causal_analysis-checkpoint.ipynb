{
 "cells": [
  {
   "cell_type": "markdown",
   "id": "13bf13c1",
   "metadata": {},
   "source": [
    "In this file, we:\n",
    "\n",
    "- try to estimate the causal effect of our adaptive management variable on the efficiency scores"
   ]
  },
  {
   "cell_type": "code",
   "execution_count": 1,
   "id": "0d05aa4f",
   "metadata": {},
   "outputs": [
    {
     "data": {
      "text/plain": [
       "(739, 72)"
      ]
     },
     "execution_count": 1,
     "metadata": {},
     "output_type": "execute_result"
    }
   ],
   "source": [
    "import numpy as np\n",
    "import pandas as pd\n",
    "\n",
    "data = pd.read_csv(\"agg_data5.csv\")\n",
    "data.shape"
   ]
  },
  {
   "cell_type": "markdown",
   "id": "463219a3",
   "metadata": {},
   "source": [
    "A simple difference in means yields the following ATE. This variable is probably biased, since confounding variables are not accounted for."
   ]
  },
  {
   "cell_type": "code",
   "execution_count": 2,
   "id": "8b012292",
   "metadata": {},
   "outputs": [
    {
     "name": "stdout",
     "output_type": "stream",
     "text": [
      "-0.044133113570363314\n"
     ]
    }
   ],
   "source": [
    "untreated_avg = data.groupby(\"adaptive_management\")[\"overall_rating\"].mean()[0]\n",
    "treated_avg = data.groupby(\"adaptive_management\")[\"overall_rating\"].mean()[1]\n",
    "\n",
    "print(treated_avg - untreated_avg)"
   ]
  },
  {
   "cell_type": "code",
   "execution_count": 9,
   "id": "820155b5",
   "metadata": {},
   "outputs": [
    {
     "data": {
      "text/plain": [
       "Index(['pdf', 'project_name', 'country', 'multiple_phases', 'number_countries',\n",
       "       'eval_year', 'number_sectors', 'number_subsectors', 'mean_investment',\n",
       "       'number_funding_source', 'number_carrier_type', 'overall_rating',\n",
       "       'relevance', 'coherence', 'effectivity', 'efficiency', 'impact',\n",
       "       'sustainability', 'url', 'outcome_fully', 'outcome_partially',\n",
       "       'outcome_not', 'cluster', 'invest_plan_vs_actual',\n",
       "       'adaptive_management', 'wbgi_gee', 'wdi_expedus', 'wdi_gdpind',\n",
       "       'gpi_ss', 'bci_bcistd', 'ictd_nontax', 'wdi_gnicapgr', 'wdi_mortf',\n",
       "       'wdi_tele', 'wdi_gdpcapgr', 'pdf_text', 'word_count', 'character_count',\n",
       "       'word_density', 'count_deutlich', 'count_gut', 'count_erreicht',\n",
       "       'count_erfolgreich', 'count_verbesserungen', 'count_erfuellt',\n",
       "       'count_umsetzung', 'count_zutreffend', 'count_verbesserung_der',\n",
       "       'count_beitrag_zur', 'count_mit_hoher_wahrscheinlichkeit',\n",
       "       'count_deutlich_ueber_den', 'count_gute', 'count_teilweise',\n",
       "       'count_allerdings', 'count_positiv', 'count_positive',\n",
       "       'count_positiver', 'count_wirksamkeit_des_vorhabens',\n",
       "       'count_bisher_positive',\n",
       "       'count_positive_entwicklungspolitische_wirksamkeit',\n",
       "       'count_unter_den_erwartungen', 'count_die_negativen_ergebnisse',\n",
       "       'count_dominieren_die', 'count_unzureichend', 'count_geringen',\n",
       "       'count_maengel', 'count_nicht_erfolgreich', 'count_nicht_erfolgreiche',\n",
       "       'count_ueberwiegend_nicht', 'count_auch_nicht',\n",
       "       'count_ueberwiegend_nicht_erfolgreich', 'count_vorhaben_ist_nutzlos',\n",
       "       'const'],\n",
       "      dtype='object')"
      ]
     },
     "execution_count": 9,
     "metadata": {},
     "output_type": "execute_result"
    }
   ],
   "source": [
    "data.columns"
   ]
  },
  {
   "cell_type": "code",
   "execution_count": 14,
   "id": "ffe30f9e",
   "metadata": {},
   "outputs": [
    {
     "data": {
      "text/plain": [
       "Index(['country', 'mean_investment', 'relevance', 'coherence', 'effectivity',\n",
       "       'efficiency', 'sustainability', 'invest_plan_vs_actual'],\n",
       "      dtype='object')"
      ]
     },
     "execution_count": 14,
     "metadata": {},
     "output_type": "execute_result"
    }
   ],
   "source": [
    "nan_columns = data.columns[data.isna().sum() > 0]\n",
    "nan_columns"
   ]
  },
  {
   "cell_type": "code",
   "execution_count": 16,
   "id": "7a8e9f31",
   "metadata": {},
   "outputs": [
    {
     "name": "stdout",
     "output_type": "stream",
     "text": [
      "Lasso Regression Coefficients:\n",
      "multiple_phases: -0.0\n",
      "number_countries: -0.0\n",
      "number_sectors: 0.0\n",
      "number_subsectors: -0.0\n",
      "number_funding_source: 0.0\n",
      "number_carrier_type: -0.0\n",
      "impact: 0.0\n",
      "cluster: -0.00793205920129197\n",
      "adaptive_management: -0.0\n",
      "word_count: 0.007151903791842642\n",
      "character_count: -0.0\n",
      "word_density: -0.0\n",
      "count_deutlich: -0.0\n",
      "count_gut: -0.0\n",
      "count_erreicht: 0.0\n",
      "count_erfolgreich: 0.0\n",
      "count_verbesserungen: 0.0\n",
      "count_erfuellt: 0.0\n",
      "count_umsetzung: -0.0\n",
      "count_zutreffend: 0.0007963307293897137\n",
      "count_verbesserung_der: -0.0\n",
      "count_beitrag_zur: 0.0\n",
      "count_mit_hoher_wahrscheinlichkeit: -0.0002825210769826693\n",
      "count_deutlich_ueber_den: 3.508228396959558e-05\n",
      "count_gute: 0.0\n",
      "count_teilweise: 0.0\n",
      "count_allerdings: -0.0126989820276283\n",
      "count_positiv: 0.0\n",
      "count_positive: 0.0\n",
      "count_positiver: 0.0\n",
      "count_wirksamkeit_des_vorhabens: 0.0\n",
      "count_bisher_positive: 0.0\n",
      "count_positive_entwicklungspolitische_wirksamkeit: -0.0\n",
      "count_unter_den_erwartungen: 0.0\n",
      "count_die_negativen_ergebnisse: -0.0\n",
      "count_dominieren_die: -0.0\n",
      "count_unzureichend: -0.0\n",
      "count_geringen: -0.0\n",
      "count_maengel: 0.0\n",
      "count_nicht_erfolgreich: 0.0\n",
      "count_nicht_erfolgreiche: -0.0\n",
      "count_ueberwiegend_nicht: -0.0\n",
      "count_auch_nicht: 0.0\n",
      "count_ueberwiegend_nicht_erfolgreich: -0.0\n",
      "count_vorhaben_ist_nutzlos: -0.0\n"
     ]
    },
    {
     "name": "stderr",
     "output_type": "stream",
     "text": [
      "C:\\Users\\mariu\\anaconda3\\Lib\\site-packages\\sklearn\\linear_model\\_coordinate_descent.py:678: ConvergenceWarning: Objective did not converge. You might want to increase the number of iterations, check the scale of the features or consider increasing regularisation. Duality gap: 1.049e+00, tolerance: 5.739e-02\n",
      "  model = cd_fast.enet_coordinate_descent(\n"
     ]
    }
   ],
   "source": [
    "import pandas as pd\n",
    "from sklearn.linear_model import Lasso\n",
    "\n",
    "X = data.drop(columns=[\"pdf\", \"project_name\", \"country\", \"eval_year\", \"mean_investment\", \"overall_rating\", \"url\",\n",
    "                      \"invest_plan_vs_actual\", \"pdf_text\", \"relevance\", \"coherence\", \"effectivity\", \"efficiency\",\n",
    "                      \"sustainability\"], axis=1)\n",
    "\n",
    "y = data['overall_rating']\n",
    "\n",
    "# Create a Lasso regression model\n",
    "lasso = Lasso(alpha=1)\n",
    "\n",
    "# Fit the model\n",
    "lasso.fit(X, y)\n",
    "\n",
    "# Get the coefficients\n",
    "coefficients = lasso.coef_\n",
    "\n",
    "# Print the feature names along with their corresponding coefficients\n",
    "print(\"Lasso Regression Coefficients:\")\n",
    "for feature, coef in zip(FEATURES, coefficients):\n",
    "    print(f\"{feature}: {coef}\")"
   ]
  },
  {
   "cell_type": "code",
   "execution_count": 6,
   "id": "680307eb",
   "metadata": {},
   "outputs": [
    {
     "name": "stdout",
     "output_type": "stream",
     "text": [
      "Lasso Regression Coefficients:\n",
      "[-0.00000000e+00 -0.00000000e+00  0.00000000e+00 -0.00000000e+00\n",
      "  0.00000000e+00 -0.00000000e+00  0.00000000e+00 -0.00000000e+00\n",
      " -0.00000000e+00 -3.81217902e-04  4.78876585e-05  0.00000000e+00\n",
      "  0.00000000e+00 -3.39531319e-02  0.00000000e+00  0.00000000e+00\n",
      "  0.00000000e+00 -0.00000000e+00  0.00000000e+00 -0.00000000e+00\n",
      "  0.00000000e+00 -0.00000000e+00 -0.00000000e+00 -0.00000000e+00\n",
      " -0.00000000e+00  0.00000000e+00  0.00000000e+00 -0.00000000e+00\n",
      " -0.00000000e+00  0.00000000e+00  0.00000000e+00 -0.00000000e+00\n",
      " -0.00000000e+00  0.00000000e+00  0.00000000e+00 -0.00000000e+00\n",
      "  0.00000000e+00  0.00000000e+00  0.00000000e+00  0.00000000e+00\n",
      "  0.00000000e+00  0.00000000e+00  0.00000000e+00  0.00000000e+00\n",
      " -0.00000000e+00]\n"
     ]
    },
    {
     "name": "stderr",
     "output_type": "stream",
     "text": [
      "C:\\Users\\mariu\\anaconda3\\Lib\\site-packages\\sklearn\\linear_model\\_coordinate_descent.py:678: ConvergenceWarning: Objective did not converge. You might want to increase the number of iterations, check the scale of the features or consider increasing regularisation. Duality gap: 1.822e+00, tolerance: 5.739e-02\n",
      "  model = cd_fast.enet_coordinate_descent(\n"
     ]
    }
   ],
   "source": [
    "from sklearn.linear_model import Lasso\n",
    "\n",
    "# Creating a Lasso model\n",
    "lasso = Lasso(alpha=1.0)\n",
    "lasso.fit(X, y)\n",
    "\n",
    "# Get the coefficients\n",
    "coefficients = lasso.coef_\n",
    "\n",
    "# Print the coefficients\n",
    "print(\"Lasso Regression Coefficients:\")\n",
    "print(coefficients)"
   ]
  },
  {
   "cell_type": "code",
   "execution_count": 4,
   "id": "a9812dba",
   "metadata": {},
   "outputs": [
    {
     "name": "stdout",
     "output_type": "stream",
     "text": [
      "                            OLS Regression Results                            \n",
      "==============================================================================\n",
      "Dep. Variable:         overall_rating   R-squared:                       0.630\n",
      "Model:                            OLS   Adj. R-squared:                  0.606\n",
      "Method:                 Least Squares   F-statistic:                     26.82\n",
      "Date:                Mon, 05 Aug 2024   Prob (F-statistic):          1.06e-120\n",
      "Time:                        19:04:26   Log-Likelihood:                -588.17\n",
      "No. Observations:                 739   AIC:                             1266.\n",
      "Df Residuals:                     694   BIC:                             1474.\n",
      "Df Model:                          44                                         \n",
      "Covariance Type:            nonrobust                                         \n",
      "=====================================================================================================================\n",
      "                                                        coef    std err          t      P>|t|      [0.025      0.975]\n",
      "---------------------------------------------------------------------------------------------------------------------\n",
      "const                                                 0.8131      0.482      1.686      0.092      -0.134       1.760\n",
      "multiple_phases                                      -0.1584      0.113     -1.400      0.162      -0.380       0.064\n",
      "number_countries                                     -0.0890      0.113     -0.791      0.429      -0.310       0.132\n",
      "number_sectors                                        0.1097      0.130      0.846      0.398      -0.145       0.364\n",
      "number_subsectors                                     0.0103      0.163      0.063      0.950      -0.310       0.331\n",
      "number_funding_source                                 0.8131      0.482      1.686      0.092      -0.134       1.760\n",
      "number_carrier_type                                   0.0954      0.258      0.370      0.711      -0.410       0.601\n",
      "impact                                                0.5602      0.029     19.173      0.000       0.503       0.618\n",
      "cluster                                               0.0122      0.013      0.945      0.345      -0.013       0.038\n",
      "adaptive_management                                  -0.0870      0.046     -1.899      0.058      -0.177       0.003\n",
      "word_count                                         5.974e-05      0.000      0.263      0.793      -0.000       0.001\n",
      "character_count                                   -1.091e-05   2.91e-05     -0.375      0.708   -6.81e-05    4.62e-05\n",
      "word_density                                         -0.0832      0.127     -0.655      0.512      -0.332       0.166\n",
      "count_deutlich                                        0.0048      0.007      0.666      0.506      -0.009       0.019\n",
      "count_gut                                            -0.0198      0.006     -3.117      0.002      -0.032      -0.007\n",
      "count_erreicht                                        0.0056      0.006      0.958      0.338      -0.006       0.017\n",
      "count_erfolgreich                                    -0.0150      0.010     -1.444      0.149      -0.035       0.005\n",
      "count_verbesserungen                                 -0.0089      0.019     -0.466      0.641      -0.047       0.029\n",
      "count_erfuellt                                       -0.0059      0.006     -0.942      0.347      -0.018       0.006\n",
      "count_umsetzung                                      -0.0031      0.006     -0.537      0.591      -0.014       0.008\n",
      "count_zutreffend                                     -0.0171      0.078     -0.220      0.826      -0.170       0.136\n",
      "count_verbesserung_der                                0.0154      0.007      2.169      0.030       0.001       0.029\n",
      "count_beitrag_zur                                    -0.0195      0.011     -1.804      0.072      -0.041       0.002\n",
      "count_mit_hoher_wahrscheinlichkeit                    0.0525      0.061      0.857      0.392      -0.068       0.173\n",
      "count_deutlich_ueber_den                             -0.0177      0.069     -0.256      0.798      -0.153       0.118\n",
      "count_gute                                           -0.0386      0.012     -3.125      0.002      -0.063      -0.014\n",
      "count_teilweise                                       0.0205      0.010      2.154      0.032       0.002       0.039\n",
      "count_allerdings                                      0.0049      0.007      0.704      0.481      -0.009       0.019\n",
      "count_positiv                                        -0.0099      0.013     -0.781      0.435      -0.035       0.015\n",
      "count_positive                                        0.0053      0.015      0.342      0.732      -0.025       0.036\n",
      "count_positiver                                       0.0650      0.037      1.735      0.083      -0.009       0.139\n",
      "count_wirksamkeit_des_vorhabens                      -0.0128      0.035     -0.366      0.714      -0.081       0.056\n",
      "count_bisher_positive                                -0.2552      0.149     -1.709      0.088      -0.548       0.038\n",
      "count_positive_entwicklungspolitische_wirksamkeit     0.0966      0.074      1.311      0.190      -0.048       0.241\n",
      "count_unter_den_erwartungen                           0.0083      0.041      0.203      0.839      -0.072       0.089\n",
      "count_die_negativen_ergebnisse                       -0.0660      0.118     -0.558      0.577      -0.298       0.166\n",
      "count_dominieren_die                                  0.0419      0.084      0.502      0.616      -0.122       0.206\n",
      "count_unzureichend                                    0.0828      0.012      6.759      0.000       0.059       0.107\n",
      "count_geringen                                        0.0267      0.019      1.402      0.162      -0.011       0.064\n",
      "count_maengel                                         0.0010      0.021      0.046      0.963      -0.040       0.042\n",
      "count_nicht_erfolgreich                               0.1537      0.045      3.407      0.001       0.065       0.242\n",
      "count_nicht_erfolgreiche                             -0.0905      0.057     -1.593      0.112      -0.202       0.021\n",
      "count_ueberwiegend_nicht                              0.1373      0.100      1.374      0.170      -0.059       0.333\n",
      "count_auch_nicht                                      0.1454      0.038      3.828      0.000       0.071       0.220\n",
      "count_ueberwiegend_nicht_erfolgreich                 -0.2537      0.127     -1.994      0.047      -0.503      -0.004\n",
      "count_vorhaben_ist_nutzlos                            0.1377      0.182      0.758      0.449      -0.219       0.495\n",
      "==============================================================================\n",
      "Omnibus:                        9.190   Durbin-Watson:                   1.999\n",
      "Prob(Omnibus):                  0.010   Jarque-Bera (JB):                9.293\n",
      "Skew:                           0.275   Prob(JB):                      0.00960\n",
      "Kurtosis:                       3.015   Cond. No.                     3.80e+15\n",
      "==============================================================================\n",
      "\n",
      "Notes:\n",
      "[1] Standard Errors assume that the covariance matrix of the errors is correctly specified.\n",
      "[2] The smallest eigenvalue is 5.68e-20. This might indicate that there are\n",
      "strong multicollinearity problems or that the design matrix is singular.\n"
     ]
    }
   ],
   "source": [
    "import numpy as np\n",
    "import pandas as pd\n",
    "import statsmodels.api as sm\n",
    "\n",
    "FEATURES = ['const', 'multiple_phases', 'number_countries',\n",
    "       'number_sectors', 'number_subsectors',\n",
    "       'number_funding_source', 'number_carrier_type',\n",
    "       'impact',\n",
    "       'cluster',\n",
    "       'adaptive_management', 'word_count', 'character_count',\n",
    "       'word_density', 'count_deutlich', 'count_gut', 'count_erreicht',\n",
    "       'count_erfolgreich', 'count_verbesserungen', 'count_erfuellt',\n",
    "       'count_umsetzung', 'count_zutreffend', 'count_verbesserung_der',\n",
    "       'count_beitrag_zur', 'count_mit_hoher_wahrscheinlichkeit',\n",
    "       'count_deutlich_ueber_den', 'count_gute', 'count_teilweise',\n",
    "       'count_allerdings', 'count_positiv', 'count_positive',\n",
    "       'count_positiver', 'count_wirksamkeit_des_vorhabens',\n",
    "       'count_bisher_positive',\n",
    "       'count_positive_entwicklungspolitische_wirksamkeit',\n",
    "       'count_unter_den_erwartungen', 'count_die_negativen_ergebnisse',\n",
    "       'count_dominieren_die', 'count_unzureichend', 'count_geringen',\n",
    "       'count_maengel', 'count_nicht_erfolgreich', 'count_nicht_erfolgreiche',\n",
    "       'count_ueberwiegend_nicht', 'count_auch_nicht',\n",
    "       'count_ueberwiegend_nicht_erfolgreich', 'count_vorhaben_ist_nutzlos']\n",
    "\n",
    "TARGET = 'overall_rating'\n",
    "\n",
    "data['const'] = 1\n",
    "\n",
    "X = data[FEATURES]\n",
    "y = data[TARGET]\n",
    "\n",
    "# Fit the model\n",
    "model = sm.OLS(y, X)\n",
    "results = model.fit()\n",
    "\n",
    "# Print the summary of the regression\n",
    "print(results.summary())\n"
   ]
  },
  {
   "cell_type": "code",
   "execution_count": 36,
   "id": "fdbe7ed4",
   "metadata": {},
   "outputs": [
    {
     "name": "stdout",
     "output_type": "stream",
     "text": [
      "relevance                  1\n",
      "effectivity                1\n",
      "sustainability             5\n",
      "invest_plan_vs_actual    236\n",
      "dtype: int64\n"
     ]
    }
   ],
   "source": [
    "nan_columns = X.isna().sum()\n",
    "print(nan_columns[nan_columns > 0])"
   ]
  }
 ],
 "metadata": {
  "kernelspec": {
   "display_name": "Python 3 (ipykernel)",
   "language": "python",
   "name": "python3"
  },
  "language_info": {
   "codemirror_mode": {
    "name": "ipython",
    "version": 3
   },
   "file_extension": ".py",
   "mimetype": "text/x-python",
   "name": "python",
   "nbconvert_exporter": "python",
   "pygments_lexer": "ipython3",
   "version": "3.11.5"
  }
 },
 "nbformat": 4,
 "nbformat_minor": 5
}
