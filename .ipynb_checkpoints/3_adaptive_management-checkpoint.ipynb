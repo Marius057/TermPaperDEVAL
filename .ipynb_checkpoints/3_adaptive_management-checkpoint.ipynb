{
 "cells": [
  {
   "cell_type": "markdown",
   "id": "350968e7",
   "metadata": {},
   "source": [
    "In this file, we :\n",
    "\n",
    "- Extract the planned and actual investment costs\n",
    "- Create a dummy variable \"adaptive_management\"\n",
    "\n",
    "**Result: agg_data**"
   ]
  },
  {
   "cell_type": "markdown",
   "id": "b9806e4a",
   "metadata": {},
   "source": [
    "## Extracting Investment Costs Plan and Actuals"
   ]
  },
  {
   "cell_type": "code",
   "execution_count": 1,
   "id": "f2859968",
   "metadata": {},
   "outputs": [
    {
     "data": {
      "text/plain": [
       "(739, 23)"
      ]
     },
     "execution_count": 1,
     "metadata": {},
     "output_type": "execute_result"
    }
   ],
   "source": [
    "import os\n",
    "import re\n",
    "import numpy as np\n",
    "import pandas as pd\n",
    "import seaborn as sns\n",
    "import matplotlib.pyplot as plt\n",
    "from pypdf import PdfReader\n",
    "import pdfplumber\n",
    "from PyPDF2 import PdfReader\n",
    "\n",
    "pd.set_option('display.max_columns', None)\n",
    "pd.set_option('display.width', None)\n",
    "pd.set_option('display.max_colwidth', None)\n",
    "\n",
    "agg_data = pd.read_csv(\"agg_data2.csv\")\n",
    "agg_data.shape"
   ]
  },
  {
   "cell_type": "markdown",
   "id": "dbd6c6e2",
   "metadata": {},
   "source": [
    "First we want to extraxt the specific line for each pdf that could contain the investments."
   ]
  },
  {
   "cell_type": "code",
   "execution_count": 2,
   "id": "f45acede",
   "metadata": {},
   "outputs": [
    {
     "name": "stdout",
     "output_type": "stream",
     "text": [
      "739\n"
     ]
    }
   ],
   "source": [
    "# Search Words\n",
    "search_word = \"Investitionskosten\"\n",
    "alternative_word = \"(gesamt)\"\n",
    "number_pattern = re.compile(r'\\d+')\n",
    "relevant_lines = []\n",
    "\n",
    "# Iterate over each file\n",
    "for file in agg_data[\"pdf\"]:\n",
    "    pdf_reports_folder = os.path.join(os.getcwd(), 'pdf_reports')\n",
    "    file_path = os.path.join(pdf_reports_folder, file)\n",
    "    \n",
    "    reader = PdfReader(file_path)\n",
    "    match_found = False\n",
    "    \n",
    "    # Iterate over all pages in the PDF\n",
    "    for page in reader.pages:\n",
    "        text = page.extract_text()\n",
    "        lines = text.splitlines()\n",
    "\n",
    "        # Check each line for word \"Investitionskosten\"\n",
    "        for line in lines:\n",
    "            if search_word in line:\n",
    "                if number_pattern.search(line):\n",
    "                    relevant_lines.append(line)\n",
    "                    match_found = True\n",
    "                    break\n",
    "                else:\n",
    "                    # If no number found, search for alternative word \"(gesamt)\"\n",
    "                    for alt_line in lines:\n",
    "                        if alternative_word in alt_line:\n",
    "                            relevant_lines.append(alt_line)\n",
    "                            match_found = True\n",
    "                            break\n",
    "            if match_found:\n",
    "                break\n",
    "        if match_found:\n",
    "            break\n",
    "            \n",
    "    if not match_found:\n",
    "        relevant_lines.append(\"no match\")\n",
    "        \n",
    "print(len(relevant_lines))"
   ]
  },
  {
   "cell_type": "markdown",
   "id": "c77f7b9c",
   "metadata": {},
   "source": [
    "Next, we remove everything except for the numbers."
   ]
  },
  {
   "cell_type": "code",
   "execution_count": 3,
   "id": "c40c68f4",
   "metadata": {},
   "outputs": [
    {
     "name": "stdout",
     "output_type": "stream",
     "text": [
      "739\n"
     ]
    }
   ],
   "source": [
    "def extract_numbers(s):\n",
    "    numbers = re.findall(r'\\d+,\\d*', s)\n",
    "    if numbers:\n",
    "        return ' '.join(numbers)\n",
    "    else:\n",
    "        return np.nan\n",
    "\n",
    "numbers_only = []\n",
    "\n",
    "# Iterate through the relevant_lines list\n",
    "for element in relevant_lines:\n",
    "    if isinstance(element, str):\n",
    "        extracted_numbers = extract_numbers(element)\n",
    "        numbers_only.append(extracted_numbers)\n",
    "    else:\n",
    "        numbers_only.append(np.nan)\n",
    "\n",
    "print(len(numbers_only))"
   ]
  },
  {
   "cell_type": "markdown",
   "id": "69e7ecff",
   "metadata": {},
   "source": [
    "We now have the investment amounts as one string for each project. Now we want to create sublists, where all investments for one project are listed."
   ]
  },
  {
   "cell_type": "code",
   "execution_count": 4,
   "id": "8aa9d5fe",
   "metadata": {},
   "outputs": [
    {
     "name": "stdout",
     "output_type": "stream",
     "text": [
      "739\n"
     ]
    }
   ],
   "source": [
    "def convert_to_float_list(s):\n",
    "    if isinstance(s, str):\n",
    "        s = s.replace(',', '.')\n",
    "        number_strings = s.split()\n",
    "        return [float(num) for num in number_strings]\n",
    "    else:\n",
    "        return [np.nan]\n",
    "\n",
    "processed_list = []\n",
    "\n",
    "# Iterate through the numbers_only list\n",
    "for element in numbers_only:\n",
    "    processed_list.append(convert_to_float_list(element))\n",
    "    \n",
    "print(len(processed_list))"
   ]
  },
  {
   "cell_type": "markdown",
   "id": "d1da2d26",
   "metadata": {},
   "source": [
    "Next, we calculate the relative differences (positive and negative are not regarded). The differences are created for the first and second index pair, the third and forth index pair, and so on."
   ]
  },
  {
   "cell_type": "code",
   "execution_count": 5,
   "id": "668248b5",
   "metadata": {},
   "outputs": [
    {
     "name": "stdout",
     "output_type": "stream",
     "text": [
      "739\n"
     ]
    }
   ],
   "source": [
    "def calculate_relative_differences(sublist):\n",
    "    if isinstance(sublist, float) and np.isnan(sublist):\n",
    "        return [np.nan]\n",
    "    \n",
    "    differences = []\n",
    "    for i in range(0, len(sublist), 2):\n",
    "        if i + 1 < len(sublist):\n",
    "            num1, num2 = sublist[i], sublist[i + 1]\n",
    "            denominator = (num1 + num2) / 2\n",
    "            if denominator == 0:\n",
    "                differences.append(np.nan)\n",
    "            else:\n",
    "                rel_diff = abs(num1 - num2) / denominator\n",
    "                differences.append(rel_diff)\n",
    "    return differences\n",
    "\n",
    "relative_differences = []\n",
    "\n",
    "# Iterate through the processed_list\n",
    "for sublist in processed_list:\n",
    "    relative_differences.append(calculate_relative_differences(sublist))\n",
    "    \n",
    "print(len(relative_differences))"
   ]
  },
  {
   "cell_type": "markdown",
   "id": "84f9e6ac",
   "metadata": {},
   "source": [
    "Now, we calculate the proportion of each index pair."
   ]
  },
  {
   "cell_type": "code",
   "execution_count": 6,
   "id": "f8c948d6",
   "metadata": {},
   "outputs": [
    {
     "name": "stdout",
     "output_type": "stream",
     "text": [
      "739\n"
     ]
    }
   ],
   "source": [
    "def calculate_proportions(sublist):\n",
    "    if isinstance(sublist, float) and np.isnan(sublist):\n",
    "        return [np.nan]\n",
    "    \n",
    "    pairs = []\n",
    "    total_sum = 0\n",
    "\n",
    "    for i in range(0, len(sublist), 2):\n",
    "        if i + 1 < len(sublist):\n",
    "            num1, num2 = sublist[i], sublist[i + 1]\n",
    "            pair_sum = num1 + num2\n",
    "            pairs.append(pair_sum)\n",
    "            total_sum += pair_sum\n",
    "    \n",
    "    if total_sum == 0:\n",
    "        proportions = [np.nan] * len(pairs)\n",
    "    else:\n",
    "        proportions = [pair_sum / total_sum for pair_sum in pairs]\n",
    "    \n",
    "    return proportions\n",
    "\n",
    "proportions_list = []\n",
    "\n",
    "for sublist in processed_list:\n",
    "    proportions_list.append(calculate_proportions(sublist))\n",
    "    \n",
    "print(len(proportions_list))"
   ]
  },
  {
   "cell_type": "markdown",
   "id": "4599a603",
   "metadata": {},
   "source": [
    "Finally, we calculate the dot products for the relative differences and the proportions to get one difference value for each project."
   ]
  },
  {
   "cell_type": "code",
   "execution_count": 7,
   "id": "60be7a38",
   "metadata": {},
   "outputs": [
    {
     "data": {
      "text/plain": [
       "739"
      ]
     },
     "execution_count": 7,
     "metadata": {},
     "output_type": "execute_result"
    }
   ],
   "source": [
    "dot_products = []\n",
    "\n",
    "# We manually insert nan values for missing values to avoid mixing up nan's with 0\n",
    "relative_differences = [sublist if sublist else np.nan for sublist in relative_differences]\n",
    "proportions_list = [sublist if sublist else np.nan for sublist in proportions_list]\n",
    "\n",
    "for i,j in zip(relative_differences, proportions_list):\n",
    "    diff_arr = np.array(i)\n",
    "    prop_arr = np.array(j)\n",
    "    \n",
    "    dot = np.dot(diff_arr, prop_arr)\n",
    "    \n",
    "    dot_products.append(dot)\n",
    "\n",
    "len(dot_products)"
   ]
  },
  {
   "cell_type": "code",
   "execution_count": 8,
   "id": "51f82480",
   "metadata": {},
   "outputs": [],
   "source": [
    "# We add it as a column to our agg_data df\n",
    "agg_data[\"invest_plan_vs_actual\"] = dot_products"
   ]
  },
  {
   "cell_type": "markdown",
   "id": "6f60fad9",
   "metadata": {},
   "source": [
    "## Adaptive Management Variable"
   ]
  },
  {
   "cell_type": "markdown",
   "id": "d797ade7",
   "metadata": {},
   "source": [
    "The adaptive_management variable measures, if for a certain project unpredictable events happened, that required an adaptive management of the project. A major part to create this variable is a comparison between planned investments and actual investments. A big difference in plan figures and actuals can be a sign for unpredictible events during project execution that required adaptive management. "
   ]
  },
  {
   "cell_type": "code",
   "execution_count": 9,
   "id": "a4722ad3",
   "metadata": {},
   "outputs": [
    {
     "data": {
      "text/plain": [
       "0.21755320713345666"
      ]
     },
     "execution_count": 9,
     "metadata": {},
     "output_type": "execute_result"
    }
   ],
   "source": [
    "np.mean(agg_data[\"invest_plan_vs_actual\"])"
   ]
  },
  {
   "cell_type": "code",
   "execution_count": 10,
   "id": "786669ae",
   "metadata": {},
   "outputs": [
    {
     "data": {
      "image/png": "[encoded data removed]",
      "text/plain": [
       "<Figure size 640x480 with 1 Axes>"
      ]
     },
     "metadata": {},
     "output_type": "display_data"
    }
   ],
   "source": [
    "import seaborn as sns\n",
    "import matplotlib.pyplot as plt\n",
    "\n",
    "# Create the violin plot\n",
    "sns.violinplot(x=agg_data[\"invest_plan_vs_actual\"])\n",
    "plt.title(\"Distribution of Difference of planned and actual Investments \")\n",
    "plt.show()"
   ]
  },
  {
   "cell_type": "code",
   "execution_count": 11,
   "id": "da24a46b",
   "metadata": {},
   "outputs": [
    {
     "data": {
      "text/plain": [
       "(274, 24)"
      ]
     },
     "execution_count": 11,
     "metadata": {},
     "output_type": "execute_result"
    }
   ],
   "source": [
    "adaptive_management = agg_data[\n",
    "    (agg_data[\"number_sectors\"] != 1) |\n",
    "    (agg_data[\"number_subsectors\"] != 1) |\n",
    "    (agg_data[\"number_countries\"] != 1) |\n",
    "    (agg_data[\"number_funding_source\"] != 1) |\n",
    "    (agg_data[\"number_carrier_type\"] != 1) |\n",
    "    (agg_data[\"invest_plan_vs_actual\"] > 0.1)\n",
    "]\n",
    "\n",
    "adaptive_management.shape"
   ]
  },
  {
   "cell_type": "code",
   "execution_count": 12,
   "id": "c28f4648",
   "metadata": {},
   "outputs": [],
   "source": [
    "# Adding a binary variable for adaptive management in the agg_data dataframe\n",
    "agg_data[\"adaptive_management\"] = np.where(\n",
    "    (agg_data[\"number_sectors\"] != 1) |\n",
    "    (agg_data[\"number_subsectors\"] != 1) |\n",
    "    (agg_data[\"number_countries\"] != 1) |\n",
    "    (agg_data[\"number_funding_source\"] != 1) |\n",
    "    (agg_data[\"number_carrier_type\"] != 1) |\n",
    "    (agg_data[\"invest_plan_vs_actual\"] > 0.1), \n",
    "    1, \n",
    "    0\n",
    ")"
   ]
  },
  {
   "cell_type": "code",
   "execution_count": 15,
   "id": "2aacaed0",
   "metadata": {},
   "outputs": [
    {
     "name": "stdout",
     "output_type": "stream",
     "text": [
      "-0.02418859737775035\n"
     ]
    }
   ],
   "source": [
    "# Correlation of adaptive management with overall_rating\n",
    "correlation = agg_data[\"overall_rating\"].corr(agg_data[\"adaptive_management\"])\n",
    "print(correlation)"
   ]
  },
  {
   "cell_type": "code",
   "execution_count": 16,
   "id": "75618f43",
   "metadata": {},
   "outputs": [],
   "source": [
    "agg_data.to_csv(\"agg_data3.csv\", index=False)"
   ]
  }
 ],
 "metadata": {
  "kernelspec": {
   "display_name": "Python 3 (ipykernel)",
   "language": "python",
   "name": "python3"
  },
  "language_info": {
   "codemirror_mode": {
    "name": "ipython",
    "version": 3
   },
   "file_extension": ".py",
   "mimetype": "text/x-python",
   "name": "python",
   "nbconvert_exporter": "python",
   "pygments_lexer": "ipython3",
   "version": "3.11.5"
  }
 },
 "nbformat": 4,
 "nbformat_minor": 5
}
