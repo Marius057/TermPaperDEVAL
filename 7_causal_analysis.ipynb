{
 "cells": [
  {
   "cell_type": "markdown",
   "id": "13bf13c1",
   "metadata": {},
   "source": [
    "In this file, we:\n",
    "\n",
    "- try to estimate the causal effect of our adaptive management variable on the efficiency scores"
   ]
  },
  {
   "cell_type": "code",
   "execution_count": 3,
   "id": "0d05aa4f",
   "metadata": {},
   "outputs": [
    {
     "data": {
      "text/plain": [
       "(739, 58)"
      ]
     },
     "execution_count": 3,
     "metadata": {},
     "output_type": "execute_result"
    }
   ],
   "source": [
    "import numpy as np\n",
    "import pandas as pd\n",
    "\n",
    "data = pd.read_csv(\"agg_data4.csv\")\n",
    "data.shape"
   ]
  },
  {
   "cell_type": "markdown",
   "id": "463219a3",
   "metadata": {},
   "source": [
    "A simple difference in means yields the following ATE. This variable is probably biased, since confounding variables are not accounted for."
   ]
  },
  {
   "cell_type": "code",
   "execution_count": 24,
   "id": "8b012292",
   "metadata": {},
   "outputs": [
    {
     "name": "stdout",
     "output_type": "stream",
     "text": [
      "-0.044133113570363314\n"
     ]
    }
   ],
   "source": [
    "untreated_avg = data.groupby(\"adaptive_management\")[\"overall_rating\"].mean()[0]\n",
    "treated_avg = data.groupby(\"adaptive_management\")[\"overall_rating\"].mean()[1]\n",
    "\n",
    "print(treated_avg - untreated_avg)"
   ]
  },
  {
   "cell_type": "code",
   "execution_count": 38,
   "id": "a9812dba",
   "metadata": {},
   "outputs": [
    {
     "name": "stdout",
     "output_type": "stream",
     "text": [
      "                            OLS Regression Results                            \n",
      "==============================================================================\n",
      "Dep. Variable:         overall_rating   R-squared:                       0.630\n",
      "Model:                            OLS   Adj. R-squared:                  0.606\n",
      "Method:                 Least Squares   F-statistic:                     26.80\n",
      "Date:                Fri, 02 Aug 2024   Prob (F-statistic):          1.17e-120\n",
      "Time:                        23:32:54   Log-Likelihood:                -588.27\n",
      "No. Observations:                 739   AIC:                             1267.\n",
      "Df Residuals:                     694   BIC:                             1474.\n",
      "Df Model:                          44                                         \n",
      "Covariance Type:            nonrobust                                         \n",
      "=====================================================================================================================\n",
      "                                                        coef    std err          t      P>|t|      [0.025      0.975]\n",
      "---------------------------------------------------------------------------------------------------------------------\n",
      "const                                                 0.8428      0.480      1.756      0.079      -0.099       1.785\n",
      "multiple_phases                                      -0.1388      0.103     -1.353      0.177      -0.340       0.063\n",
      "number_countries                                     -0.0957      0.112     -0.852      0.395      -0.316       0.125\n",
      "number_sectors                                        0.1088      0.130      0.840      0.401      -0.146       0.363\n",
      "number_subsectors                                     0.0105      0.163      0.064      0.949      -0.310       0.331\n",
      "number_funding_source                                 0.8428      0.480      1.756      0.079      -0.099       1.785\n",
      "number_carrier_type                                   0.1055      0.258      0.409      0.682      -0.400       0.611\n",
      "impact                                                0.5614      0.029     19.231      0.000       0.504       0.619\n",
      "cluster                                               0.0103      0.012      0.851      0.395      -0.013       0.034\n",
      "adaptive_management                                  -0.0846      0.046     -1.847      0.065      -0.175       0.005\n",
      "word_count                                         3.895e-05      0.000      0.172      0.864      -0.000       0.000\n",
      "character_count                                   -8.343e-06    2.9e-05     -0.287      0.774   -6.54e-05    4.87e-05\n",
      "word_density                                         -0.0915      0.126     -0.724      0.470      -0.340       0.157\n",
      "count_deutlich                                        0.0050      0.007      0.683      0.495      -0.009       0.019\n",
      "count_gut                                            -0.0201      0.006     -3.161      0.002      -0.033      -0.008\n",
      "count_erreicht                                        0.0054      0.006      0.932      0.352      -0.006       0.017\n",
      "count_erfolgreich                                    -0.0159      0.010     -1.537      0.125      -0.036       0.004\n",
      "count_verbesserungen                                 -0.0083      0.019     -0.433      0.665      -0.046       0.029\n",
      "count_erfuellt                                       -0.0058      0.006     -0.937      0.349      -0.018       0.006\n",
      "count_umsetzung                                      -0.0025      0.006     -0.430      0.667      -0.014       0.009\n",
      "count_zutreffend                                     -0.0167      0.078     -0.214      0.830      -0.170       0.136\n",
      "count_verbesserung_der                                0.0151      0.007      2.125      0.034       0.001       0.029\n",
      "count_beitrag_zur                                    -0.0203      0.011     -1.880      0.060      -0.041       0.001\n",
      "count_mit_hoher_wahrscheinlichkeit                    0.0539      0.061      0.881      0.379      -0.066       0.174\n",
      "count_deutlich_ueber_den                             -0.0192      0.069     -0.278      0.781      -0.155       0.116\n",
      "count_gute                                           -0.0378      0.012     -3.063      0.002      -0.062      -0.014\n",
      "count_teilweise                                       0.0199      0.010      2.088      0.037       0.001       0.039\n",
      "count_allerdings                                      0.0059      0.007      0.852      0.395      -0.008       0.020\n",
      "count_positiv                                        -0.0110      0.013     -0.870      0.385      -0.036       0.014\n",
      "count_positive                                        0.0073      0.015      0.471      0.638      -0.023       0.038\n",
      "count_positiver                                       0.0615      0.038      1.636      0.102      -0.012       0.135\n",
      "count_wirksamkeit_des_vorhabens                      -0.0129      0.035     -0.370      0.711      -0.082       0.056\n",
      "count_bisher_positive                                -0.2476      0.149     -1.661      0.097      -0.540       0.045\n",
      "count_positive_entwicklungspolitische_wirksamkeit     0.0930      0.074      1.263      0.207      -0.052       0.237\n",
      "count_unter_den_erwartungen                           0.0121      0.041      0.297      0.767      -0.068       0.092\n",
      "count_die_negativen_ergebnisse                       -0.0776      0.118     -0.656      0.512      -0.310       0.155\n",
      "count_dominieren_die                                  0.0500      0.083      0.601      0.548      -0.113       0.214\n",
      "count_unzureichend                                    0.0813      0.012      6.626      0.000       0.057       0.105\n",
      "count_geringen                                        0.0266      0.019      1.395      0.164      -0.011       0.064\n",
      "count_maengel                                        -0.0010      0.021     -0.047      0.963      -0.041       0.040\n",
      "count_nicht_erfolgreich                               0.1578      0.045      3.497      0.001       0.069       0.246\n",
      "count_nicht_erfolgreiche                             -0.0932      0.057     -1.631      0.103      -0.205       0.019\n",
      "count_ueberwiegend_nicht                              0.1349      0.100      1.350      0.177      -0.061       0.331\n",
      "count_auch_nicht                                      0.1399      0.038      3.694      0.000       0.066       0.214\n",
      "count_ueberwiegend_nicht_erfolgreich                 -0.2544      0.127     -1.999      0.046      -0.504      -0.005\n",
      "count_vorhaben_ist_nutzlos                            0.1342      0.182      0.739      0.460      -0.222       0.491\n",
      "==============================================================================\n",
      "Omnibus:                        8.628   Durbin-Watson:                   2.008\n",
      "Prob(Omnibus):                  0.013   Jarque-Bera (JB):                8.751\n",
      "Skew:                           0.266   Prob(JB):                       0.0126\n",
      "Kurtosis:                       2.985   Cond. No.                     3.87e+15\n",
      "==============================================================================\n",
      "\n",
      "Notes:\n",
      "[1] Standard Errors assume that the covariance matrix of the errors is correctly specified.\n",
      "[2] The smallest eigenvalue is 5.48e-20. This might indicate that there are\n",
      "strong multicollinearity problems or that the design matrix is singular.\n"
     ]
    }
   ],
   "source": [
    "import numpy as np\n",
    "import pandas as pd\n",
    "import statsmodels.api as sm\n",
    "\n",
    "FEATURES = ['const', 'multiple_phases', 'number_countries',\n",
    "       'number_sectors', 'number_subsectors',\n",
    "       'number_funding_source', 'number_carrier_type',\n",
    "       'impact',\n",
    "       'cluster',\n",
    "       'adaptive_management', 'word_count', 'character_count',\n",
    "       'word_density', 'count_deutlich', 'count_gut', 'count_erreicht',\n",
    "       'count_erfolgreich', 'count_verbesserungen', 'count_erfuellt',\n",
    "       'count_umsetzung', 'count_zutreffend', 'count_verbesserung_der',\n",
    "       'count_beitrag_zur', 'count_mit_hoher_wahrscheinlichkeit',\n",
    "       'count_deutlich_ueber_den', 'count_gute', 'count_teilweise',\n",
    "       'count_allerdings', 'count_positiv', 'count_positive',\n",
    "       'count_positiver', 'count_wirksamkeit_des_vorhabens',\n",
    "       'count_bisher_positive',\n",
    "       'count_positive_entwicklungspolitische_wirksamkeit',\n",
    "       'count_unter_den_erwartungen', 'count_die_negativen_ergebnisse',\n",
    "       'count_dominieren_die', 'count_unzureichend', 'count_geringen',\n",
    "       'count_maengel', 'count_nicht_erfolgreich', 'count_nicht_erfolgreiche',\n",
    "       'count_ueberwiegend_nicht', 'count_auch_nicht',\n",
    "       'count_ueberwiegend_nicht_erfolgreich', 'count_vorhaben_ist_nutzlos']\n",
    "\n",
    "TARGET = 'overall_rating'\n",
    "\n",
    "data['const'] = 1\n",
    "\n",
    "X = data[FEATURES]\n",
    "y = data[TARGET]\n",
    "\n",
    "# Fit the model\n",
    "model = sm.OLS(y, X)\n",
    "results = model.fit()\n",
    "\n",
    "# Print the summary of the regression\n",
    "print(results.summary())\n"
   ]
  },
  {
   "cell_type": "code",
   "execution_count": 36,
   "id": "fdbe7ed4",
   "metadata": {},
   "outputs": [
    {
     "name": "stdout",
     "output_type": "stream",
     "text": [
      "relevance                  1\n",
      "effectivity                1\n",
      "sustainability             5\n",
      "invest_plan_vs_actual    236\n",
      "dtype: int64\n"
     ]
    }
   ],
   "source": [
    "nan_columns = X.isna().sum()\n",
    "print(nan_columns[nan_columns > 0])"
   ]
  }
 ],
 "metadata": {
  "kernelspec": {
   "display_name": "Python 3 (ipykernel)",
   "language": "python",
   "name": "python3"
  },
  "language_info": {
   "codemirror_mode": {
    "name": "ipython",
    "version": 3
   },
   "file_extension": ".py",
   "mimetype": "text/x-python",
   "name": "python",
   "nbconvert_exporter": "python",
   "pygments_lexer": "ipython3",
   "version": "3.11.5"
  }
 },
 "nbformat": 4,
 "nbformat_minor": 5
}
