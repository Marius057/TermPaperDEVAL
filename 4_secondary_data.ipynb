{
 "cells": [
  {
   "cell_type": "markdown",
   "metadata": {},
   "source": [
    "In this file, we:\n",
    "\n",
    "- Create a mapping list to match german with english country names\n",
    "- Create country groups\n",
    "- Calculate measures for the country groups\n",
    "- Search for important features in quality of goverment data\n",
    "\n",
    "**Result: agg_data4.csv**"
   ]
  },
  {
   "cell_type": "code",
   "execution_count": 1,
   "metadata": {},
   "outputs": [],
   "source": [
    "import pandas as pd\n",
    "import numpy as np\n",
    "from sklearn.ensemble import RandomForestRegressor\n",
    "from sklearn.preprocessing import StandardScaler\n",
    "\n",
    "# Load data\n",
    "agg_data = pd.read_csv('agg_data3.csv')\n",
    "qog_data = pd.read_csv('qog_std_ts_jan24.csv', low_memory=False)"
   ]
  },
  {
   "cell_type": "markdown",
   "metadata": {},
   "source": [
    "We replace all missing value with zero."
   ]
  },
  {
   "cell_type": "code",
   "execution_count": 2,
   "metadata": {},
   "outputs": [],
   "source": [
    "qog_data = qog_data.fillna(0)"
   ]
  },
  {
   "cell_type": "markdown",
   "metadata": {},
   "source": [
    "Next, we create country and country group mappings and calculate mean variable values from qog_data for the country groups."
   ]
  },
  {
   "cell_type": "code",
   "execution_count": 3,
   "metadata": {},
   "outputs": [],
   "source": [
    "# Country mapping dictionary\n",
    "country_mapping = {\n",
    "    'Ägypten': 'Egypt',\n",
    "    'Äthiopien': 'Ethiopia',\n",
    "    'Afrika (regional)': 'Afrika (regional)',\n",
    "    'Albanien': 'Albania',\n",
    "    'Alle Entwicklungsländer': 'Alle Entwicklungsländer',\n",
    "    'Armenien': 'Armenia',\n",
    "    'Aserbaidschan': 'Azerbaijan',\n",
    "    'Zentralamerika (BCIE)': 'Zentralamerika (BCIE)',\n",
    "    'Bangladesch': 'Bangladesh',\n",
    "    'Benin': 'Benin',\n",
    "    'Bolivien': 'Bolivia (Plurinational State of)',\n",
    "    'Bosnien und Herzegowina': 'Bosnia and Herzegovina',\n",
    "    'Brasilien': 'Brazil',\n",
    "    'Bulgarien': 'Bulgaria',\n",
    "    'Burkina Faso': 'Burkina Faso',\n",
    "    'Burundi': 'Burundi',\n",
    "    'Karibik (CARICOM)': 'Karibik (CARICOM)',\n",
    "    'Afrika (CEMAC)': 'Central African Republic (the)',\n",
    "    'Chile': 'Chile',\n",
    "    'Volksrepublik China': 'China',\n",
    "    'Costa Rica': 'Costa Rica',\n",
    "    'Elfenbeinküste': 'Côte d\\'Ivoire',\n",
    "    'Dominikanische Republik': 'Dominican Republic (the)',\n",
    "    'Dschibuti': 'Djibouti',\n",
    "    'Afrika (ECOWAS)': 'Afrika (ECOWAS)',\n",
    "    'Ecuador': 'Ecuador',\n",
    "    'El Salvador': 'El Salvador',\n",
    "    'Mosambik': 'Mozambique',\n",
    "    'Eritrea': 'Eritrea',\n",
    "    'Georgien': 'Georgia',\n",
    "    'Ghana': 'Ghana',\n",
    "    'Guatemala': 'Guatemala',\n",
    "    'Guinea': 'Guinea',\n",
    "    'Guyana': 'Guyana',\n",
    "    'Honduras': 'Honduras',\n",
    "    'Peru': 'Peru',\n",
    "    'Belarus': 'Belarus',\n",
    "    'Lateinamerika (regional)': 'Lateinamerika (regional)',\n",
    "    'Indien': 'India',\n",
    "    'Indonesien': 'Indonesia',\n",
    "    'Kaukasus (regional)': 'Kaukasus (regional)',\n",
    "    'Kroatien': 'Croatia',\n",
    "    'Papua-Neuguinea': 'Papua New Guinea',\n",
    "    'Russland': 'Russian Federation (the)',\n",
    "    'Ukraine': 'Ukraine',\n",
    "    'Philippinen': 'Philippines (the)',\n",
    "    'Irak': 'Iraq',\n",
    "    'Israel': 'Israel',\n",
    "    'Jemen': 'Yemen',\n",
    "    'Jordanien': 'Jordan',\n",
    "    'Naher und Mittlerer Osten': 'Naher und Mittlerer Osten',\n",
    "    'Kambodscha': 'Cambodia',\n",
    "    'Laos': 'Lao People\\'s Democratic Republic (the)',\n",
    "    'Kamerun': 'Cameroon',\n",
    "    'Kap Verde (Cabo Verde)': 'Cabo Verde',\n",
    "    'Kenia': 'Kenya',\n",
    "    'Kirgisistan': 'Kyrgyzstan',\n",
    "    'Kolumbien': 'Colombia',\n",
    "    'Demokratische Republik Kongo': 'Congo (the Democratic Republic of the)',\n",
    "    'Kosovo': 'Kosovo',\n",
    "    'Südostasien (M.R.C.)': 'Südostasien (M.R.C.)',\n",
    "    'Lesotho': 'Lesotho',\n",
    "    'Liberia': 'Liberia',\n",
    "    'Madagaskar': 'Madagascar',\n",
    "    'Malawi': 'Malawi',\n",
    "    'Mali': 'Mali',\n",
    "    'Marokko': 'Morocco',\n",
    "    'Mauretanien': 'Mauritania',\n",
    "    'Mauritius': 'Mauritius',\n",
    "    'Nordmazedonien': 'North Macedonia',\n",
    "    'Mexiko': 'Mexico',\n",
    "    'Moldau': 'Moldova (the Republic of)',\n",
    "    'Mongolei': 'Mongolia',\n",
    "    'Montenegro': 'Montenegro',\n",
    "    'Namibia': 'Namibia',\n",
    "    'Nepal': 'Nepal',\n",
    "    'Nicaragua': 'Nicaragua',\n",
    "    'Niger': 'Niger (the)',\n",
    "    'Nigeria': 'Nigeria',\n",
    "    'Pakistan': 'Pakistan',\n",
    "    'Palästina': 'Palestine',\n",
    "    'Paraguay': 'Paraguay',\n",
    "    'Ruanda': 'Rwanda',\n",
    "    'Rumänien': 'Romania',\n",
    "    'Südosteuropa': 'Südosteuropa',\n",
    "    'Sambia': 'Zambia',\n",
    "    'Senegal': 'Senegal',\n",
    "    'Serbien': 'Serbia',\n",
    "    'Simbabwe': 'Zimbabwe',\n",
    "    'Somalia': 'Somalia',\n",
    "    'Sri Lanka': 'Sri Lanka',\n",
    "    'Südafrika': 'South Africa',\n",
    "    'Mittel- und Südosteuropa (regional)': 'Mittel- und Südosteuropa (regional)',\n",
    "    'Tadschikistan': 'Tajikistan',\n",
    "    'Tansania': 'Tanzania, the United Republic of',\n",
    "    'Osttimor': 'Timor-Leste',\n",
    "    'Togo': 'Togo',\n",
    "    'Tschad': 'Chad',\n",
    "    'Tunesien': 'Tunisia',\n",
    "    'Türkei': 'Turkey',\n",
    "    'Uganda': 'Uganda',\n",
    "    'Usbekistan': 'Uzbekistan',\n",
    "    'Vietnam': 'Viet Nam',\n",
    "    'Zentralafrikanische Republik': 'Central African Republic (the)',\n",
    "    'Zentralamerika (CTPT)': 'Zentralamerika (CTPT)',\n",
    "    'Kasachstan': 'Kazakhstan',\n",
    "    'Mittlerer Osten und Nordafrika': 'Mittlerer Osten und Nordafrika',\n",
    "    'Sierra Leone': 'Sierra Leone',\n",
    "    'Syrien': 'Syrian Arab Republic (the)',\n",
    "}\n",
    "\n",
    "# Dictionary with country groups and corresponding countries\n",
    "country_groups = {\n",
    "    'Afrika (regional)': ['Egypt', 'Ethiopia', 'Central African Republic (the)', 'Ghana', 'Kenya', 'Nigeria', 'South Africa', 'Tanzania, the United Republic of', 'Uganda', 'Zambia', 'Zimbabwe'],\n",
    "    'Zentralamerika (BCIE)': ['Costa Rica', 'El Salvador', 'Guatemala', 'Honduras', 'Nicaragua'],\n",
    "    'Karibik (CARICOM)': ['Guyana'],\n",
    "    'Afrika (ECOWAS)': ['Benin', 'Burkina Faso', 'Côte d\\'Ivoire', 'Ghana', 'Guinea', 'Liberia', 'Nigeria', 'Senegal', 'Sierra Leone', 'Togo'],\n",
    "    'Kaukasus (regional)': ['Armenia', 'Azerbaijan', 'Georgia'],\n",
    "    'Südostasien (M.R.C.)': ['Cambodia', 'Lao People\\'s Democratic Republic (the)', 'Vietnam'],\n",
    "    'Lateinamerika (regional)': ['Bolivia (Plurinational State of)', 'Brazil', 'Chile', 'Colombia', 'Ecuador', 'Guyana', 'Paraguay', 'Peru'],\n",
    "    'Naher und Mittlerer Osten': ['Israel', 'Jordan', 'Syrian Arab Republic (the)', 'Yemen'],\n",
    "    'Mittel- und Südosteuropa (regional)': ['Bosnia and Herzegovina', 'Bulgaria', 'Croatia', 'Montenegro', 'North Macedonia', 'Romania', 'Serbia'],\n",
    "    'Zentralamerika (CTPT)': ['Costa Rica', 'El Salvador', 'Guatemala', 'Honduras', 'Nicaragua'],\n",
    "    'Mittlerer Osten und Nordafrika': ['Israel', 'Jordan', 'Syrian Arab Republic (the)', 'Yemen']\n",
    "}\n",
    "\n",
    "# Calculating mean values for country groups\n",
    "grouped_data = []\n",
    "\n",
    "for group, countries in country_groups.items():\n",
    "    for year in qog_data['year'].unique():\n",
    "        group_data = qog_data[qog_data['cname'].isin(countries) & (qog_data['year'] == year)]\n",
    "        if not group_data.empty:\n",
    "            mean_values = group_data.mean(numeric_only=True)\n",
    "            mean_values['cname'] = group\n",
    "            mean_values['year'] = year\n",
    "            grouped_data.append(mean_values)\n",
    "\n",
    "grouped_df = pd.DataFrame(grouped_data)\n",
    "qog_data = pd.concat([qog_data, grouped_df], ignore_index=True)"
   ]
  },
  {
   "cell_type": "markdown",
   "metadata": {},
   "source": [
    "From agg_data we select the columns country, evaluation year, overall rating. We select all numerical columns from qog_data and merge the two dataframes on country and evaluation year. By doing so, we make the simplifying assumption that the census data does not change during the project phase. We use only the data from the respective evaluation year of the project."
   ]
  },
  {
   "cell_type": "code",
   "execution_count": 4,
   "metadata": {},
   "outputs": [],
   "source": [
    "# Convert countries in agg_data to English\n",
    "agg_data['country'] = agg_data['country'].map(country_mapping)\n",
    "\n",
    "agg_data = agg_data[['country', 'eval_year', 'overall_rating']]\n",
    "agg_data.rename(columns={'country': 'cname', 'eval_year': 'year'}, inplace=True)\n",
    "\n",
    "# Select only numeric columns in qog_data, except 'year'\n",
    "numerical_cols = qog_data.select_dtypes(include=[np.number]).columns.tolist()\n",
    "numerical_cols = [col for col in numerical_cols if col != 'year']\n",
    "\n",
    "# Merge agg_data with qog_data on 'cname' and 'year'\n",
    "merged_data = pd.merge(agg_data, qog_data[['cname', 'year'] + numerical_cols], how='left', on=['cname', 'year'])\n",
    "\n",
    "# Remove rows with missing values\n",
    "merged_data = merged_data.dropna()"
   ]
  },
  {
   "cell_type": "markdown",
   "metadata": {},
   "source": [
    "Here, we separate the complete dataframe merged_data (agg_data with more variables) in to train_test and validation dataframe. We only use the train_test dataframe for feature selection. The validation dataframe is used for final model valuation."
   ]
  },
  {
   "cell_type": "code",
   "execution_count": 5,
   "metadata": {},
   "outputs": [],
   "source": [
    "# Split data into training and validation datasets\n",
    "validation_data = merged_data.sample(frac=0.1, random_state=123)\n",
    "train_test_data = merged_data.drop(validation_data.index)\n",
    "\n",
    "# Specifying X and y. Standardizing X\n",
    "X = train_test_data.drop(columns=['overall_rating', 'cname', 'year'])\n",
    "y = train_test_data['overall_rating']\n",
    "\n",
    "scaler = StandardScaler()\n",
    "X_scaled = scaler.fit_transform(X)"
   ]
  },
  {
   "cell_type": "markdown",
   "metadata": {},
   "source": [
    "Next, we perform feature selection using a random forest and print out the 5 most relevant features."
   ]
  },
  {
   "cell_type": "code",
   "execution_count": 6,
   "metadata": {},
   "outputs": [
    {
     "name": "stdout",
     "output_type": "stream",
     "text": [
      "The top secondary features are: ['wbgi_gee', 'wdi_expedus', 'wdi_gdpind', 'gpi_ss', 'bci_bcistd']\n"
     ]
    }
   ],
   "source": [
    "# Random Forest Feature Selection\n",
    "rf = RandomForestRegressor(random_state=123)\n",
    "rf.fit(X_scaled, y)\n",
    "\n",
    "importances = rf.feature_importances_\n",
    "indices = np.argsort(importances)[::-1]\n",
    "top_secondary_features = X.columns[indices[:5]].tolist()\n",
    "print(\"The top secondary features are:\", top_secondary_features)"
   ]
  },
  {
   "cell_type": "markdown",
   "metadata": {},
   "source": [
    "Finally, we add the 5 selected variables to agg_data and export it to a CSV file."
   ]
  },
  {
   "cell_type": "code",
   "execution_count": 7,
   "metadata": {},
   "outputs": [],
   "source": [
    "agg_data3 = pd.read_csv('agg_data3.csv')\n",
    "agg_data3['country'] = agg_data3['country'].map(country_mapping)\n",
    "merged_data_full = pd.merge(agg_data3, qog_data[['cname', 'year'] + list(top_secondary_features)], how='left', left_on=['country', 'eval_year'], right_on=['cname', 'year'])\n",
    "\n",
    "for feature in top_secondary_features:\n",
    "    agg_data3[feature] = merged_data_full[feature]\n",
    "\n",
    "# Replace NaN values with 0 in the new columns\n",
    "agg_data3[top_secondary_features] = agg_data3[top_secondary_features].fillna(0)\n",
    "\n",
    "# Save the updated file\n",
    "agg_data3.to_csv('agg_data4.csv', index=False)"
   ]
  },
  {
   "cell_type": "markdown",
   "metadata": {},
   "source": [
    "## Explanation of Selected Variables\n",
    "\n",
    "* wbgi_gee (Government Effectiveness - Estimate):\n",
    "\n",
    "Description: This variable combines responses on the quality of public service provision, the quality of the bureaucracy, the competence of civil servants, the independence of the civil service from political pressures, and the credibility of the government’s commitment to policies.\n",
    "* wdi_expedus (Expenditure on Secondary Education):\n",
    "\n",
    "Description: This variable represents the expenditure on secondary education as a percentage of total general government expenditure on education. It is calculated by dividing government expenditure on secondary education by total government expenditure on education and multiplying by 10034.\n",
    "* wdi_gdpind (Industry, Value Added as % of GDP):\n",
    "\n",
    "Description: This variable includes value added in mining, manufacturing, construction, electricity, water, and gas. It represents the net output of a sector after adding up all outputs and subtracting intermediate inputs, without making deductions for depreciation of fabricated assets or depletion and degradation of natural resources.\n",
    "* gpi_ss (Societal Safety and Security):\n",
    "\n",
    "Description: This variable is one of the three subdomains of the Global Peace Index. It measures societal safety and security, scaled from 1 to 5, with 5 being less secure. It includes indicators such as low crime rates, minimal terrorist activity, harmonious relations with neighboring countries, a stable political scene, and a small proportion of the population being internally displaced or made refugees.\n",
    "* bci_bcistd (Standard Deviation of the Bayesian Corruption Indicator):\n",
    "\n",
    "Description: This variable represents the standard deviation of the Bayesian Corruption Index, which is a composite index of the perceived overall level of corruption."
   ]
  }
 ],
 "metadata": {
  "kernelspec": {
   "display_name": "Python 3 (ipykernel)",
   "language": "python",
   "name": "python3"
  },
  "language_info": {
   "codemirror_mode": {
    "name": "ipython",
    "version": 3
   },
   "file_extension": ".py",
   "mimetype": "text/x-python",
   "name": "python",
   "nbconvert_exporter": "python",
   "pygments_lexer": "ipython3",
   "version": "3.11.5"
  }
 },
 "nbformat": 4,
 "nbformat_minor": 2
}
